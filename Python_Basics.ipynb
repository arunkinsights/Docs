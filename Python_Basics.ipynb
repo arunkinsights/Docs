{
 "cells": [
  {
   "cell_type": "markdown",
   "id": "eace7dd5-a4ae-4ea2-9e1f-e06008ddb28e",
   "metadata": {},
   "source": [
    "Introduction to Python:\n",
    "\n",
    "Python is a programming language that is easy to understand and write, making it a popular choice among developers and programmers. \n",
    "It is compatible with various programming paradigms, such as procedural, object-oriented, and functional programming. \n",
    "Python has a large and active community of developers, an extensive standard library, and third-party packages for various domains. \n",
    "\n",
    "Predefined keywords:\n",
    "\n",
    "Keywords are reserved words in Python that have special meanings and cannot be used as identifiers (variable names, function names, etc.). \n",
    "Examples of keywords include if, else, while, for, def, class, import, try, except, return, True, False, None, etc.\n",
    "Keywords are case-sensitive and cannot be redefined or overridden within a Python program.\n",
    "\n",
    "Mutability & Immutability: \n",
    "\n",
    "In Python, objects can be either changeable (modifiable) or unchangeable (unchangeable). \n",
    "Mutable objects, such as lists and dictionaries, can be modified after creation, while immutable objects, such as tuples and strings, cannot. \n",
    "Mutability affects how objects are stored and manipulated in memory, impacting performance, memory usage, and concurrency in Python programs. \n",
    "\n",
    "Operators:\n",
    "\n",
    "Operators are special symbols or keywords that are used to carry out specific actions on numbers or variables in Python expressions. \n",
    "Python supports various types of operators, including arithmetic operators (+, -, *, /), comparison operators (==, !=, <, >), logical operators (and, or, not), assignment operators (=, +=, -=, *=, /=), etc.\n",
    "Operators have precedence and associativity rules that determine the order of evaluation in expressions.\n",
    "\n",
    "Type Casting:\n",
    "\n",
    "Type casting, also referred to as type conversion, is the process of changing one data type to another in Python. \n",
    "Python provides built-in functions for type casting, such as int(), float(), str(), list(), tuple(), dict(), etc.\n",
    "Type casting is often necessary for performing arithmetic operations, data manipulation, and input/output operations in Python programs.\n",
    "\n",
    "Conditionals:\n",
    "\n",
    "Conditionals in Python are used to execute code based on the evaluation of one or more conditions.\n",
    "Python supports conditional statements such as if, elif (else if), and else to control the flow of execution.\n",
    "Conditionals can be nested to handle multiple conditions and control different branches of execution based on the outcome of logical expressions.\n",
    "\n",
    "Loops:\n",
    "\n",
    "In Python, loops are employed to repeat a sequence of actions or code until a specific condition is fulfilled. \n",
    "Python offers two primary types of loops: for loops and while loops. \n",
    "“for” loops are used for iterating over a sequence of elements, while “while” loops are used for executing code until a specified condition becomes False\n",
    "\n"
   ]
  }
 ],
 "metadata": {
  "kernelspec": {
   "display_name": "Python 3 (ipykernel)",
   "language": "python",
   "name": "python3"
  },
  "language_info": {
   "codemirror_mode": {
    "name": "ipython",
    "version": 3
   },
   "file_extension": ".py",
   "mimetype": "text/x-python",
   "name": "python",
   "nbconvert_exporter": "python",
   "pygments_lexer": "ipython3",
   "version": "3.12.3"
  }
 },
 "nbformat": 4,
 "nbformat_minor": 5
}
